{
  "nbformat": 4,
  "nbformat_minor": 0,
  "metadata": {
    "accelerator": "GPU",
    "colab": {
      "name": "01_SimpleRNN_vs_LSTM_vs_GRU.ipynb",
      "provenance": [],
      "collapsed_sections": [],
      "include_colab_link": true
    },
    "kernelspec": {
      "display_name": "Python 3",
      "language": "python",
      "name": "python3"
    },
    "language_info": {
      "codemirror_mode": {
        "name": "ipython",
        "version": 3
      },
      "file_extension": ".py",
      "mimetype": "text/x-python",
      "name": "python",
      "nbconvert_exporter": "python",
      "pygments_lexer": "ipython3",
      "version": "3.6.3"
    }
  },
  "cells": [
    {
      "cell_type": "markdown",
      "metadata": {
        "id": "view-in-github",
        "colab_type": "text"
      },
      "source": [
        "<a href=\"https://colab.research.google.com/github/sudhirtakke/RNN-vs-LSTM-vs-GRU/blob/main/%20SimpleRNN_vs_LSTM_vs_GRU.ipynb\" target=\"_parent\"><img src=\"https://colab.research.google.com/assets/colab-badge.svg\" alt=\"Open In Colab\"/></a>"
      ]
    },
    {
      "cell_type": "markdown",
      "metadata": {
        "id": "2XTlkL6SioEj"
      },
      "source": [
        "# SimpleRNN vs LSTM vs GRU"
      ]
    },
    {
      "cell_type": "markdown",
      "metadata": {
        "id": "cfoMQMW8amso"
      },
      "source": [
        "**Problem Description** <br/>\n",
        " - Classifying movie reviews: a binary classification example.\n",
        "Two-class classification, or binary classification, may be the most widely applied kind\n",
        "of machine-learning problem.\n",
        " - Here, we will see **how** **SimpleRNN, LSTM** and **GRU perform** at classifying movie reviews as\n",
        "**positive or negative**, based on the text content of the reviews."
      ]
    },
    {
      "cell_type": "markdown",
      "metadata": {
        "id": "L38KhgwgpWc7"
      },
      "source": [
        "## Table of Contents\n",
        "\n",
        "1.\t[Dataset Description](#section1)<br/>\n",
        "2.\t[Examining the Data](#section2)\n",
        "3.\t[Preprocessing](#section3)\n",
        "4.\t[SimpleRNN Model](#section4)\n",
        "5.\t[SimpleRNN Model Evaluation](#section5)\n",
        "6.\t[LSTM Model](#section6)\n",
        "7.\t[LSTM Model Evaluaton](#section7)\n",
        "8.  [GRU Model](#section8)\n",
        "9.  [GRU Model Evaluation](#section9)\n"
      ]
    },
    {
      "cell_type": "markdown",
      "metadata": {
        "id": "46Q4FTAhpxKt"
      },
      "source": [
        "<a id=section1></a>"
      ]
    },
    {
      "cell_type": "markdown",
      "metadata": {
        "id": "VpH4urRiVPON"
      },
      "source": [
        "### 1. Dataset Description"
      ]
    },
    {
      "cell_type": "markdown",
      "metadata": {
        "id": "p05ig7T6raMV"
      },
      "source": [
        "<center><img src=\"https://raw.githubusercontent.com/insaid2018/DeepLearning/master/images/dataset-original.jpg\" width=\"800\" height=\"400\" /></center>"
      ]
    },
    {
      "cell_type": "markdown",
      "metadata": {
        "id": "EwKTxEZxRVT6"
      },
      "source": [
        "**The IMDB dataset**\n",
        " - We’ll work with the IMDB dataset: a set of **50,000** highly polarized reviews from the Internet Movie Database.  \n",
        " - They’re split into **25,000 reviews for training** and **25,000 reviews for testing**, each set consisting of **50% negative** and **50% positive reviews**.\n",
        " - The IMDB dataset **comes packaged with Keras**. It has\n",
        "**already been preprocessed**: the reviews (sequences of words) have been turned into\n",
        "sequences of integers, where each integer stands for a specific word in a dictionary."
      ]
    },
    {
      "cell_type": "markdown",
      "metadata": {
        "id": "SgCgCjQ4QDI6"
      },
      "source": [
        "We will consider **only top 10,000 most frequently occuring words.**"
      ]
    },
    {
      "cell_type": "markdown",
      "metadata": {
        "id": "YJikbIxDMvQZ"
      },
      "source": [
        " **Note:**\n",
        " - We are encountering an error while loading dataset from keras library with numpy 1.16\n",
        " - So install numpy 1.14 using below cell and restart the session. <br/>\n",
        " - We don't have to re-run the below cell once   we have restarted the session after installing numpy 1.14"
      ]
    },
    {
      "cell_type": "code",
      "metadata": {
        "id": "ItkIWd-QuyJn"
      },
      "source": [
        "# Import tensorflow 2.x\n",
        "# This code block will only work in Google Colab.\n",
        "try:\n",
        "    # %tensorflow_version only exists in Colab.\n",
        "    %tensorflow_version 2.x\n",
        "except Exception:\n",
        "    pass"
      ],
      "execution_count": null,
      "outputs": []
    },
    {
      "cell_type": "code",
      "metadata": {
        "id": "k-UBRTzIMxd-",
        "colab": {
          "base_uri": "https://localhost:8080/",
          "height": 547
        },
        "outputId": "239e18fc-20a1-4e56-e085-e0b79213954e"
      },
      "source": [
        "# If current version of numpy gives an error while running the dataset below, then run this cell.\n",
        "# Otherwise skip this cell.\n",
        "\n",
        "!pip install numpy==1.14.2\n",
        "\n",
        "# Restart the session after installing and don't run this cell again after restarting the session"
      ],
      "execution_count": null,
      "outputs": [
        {
          "output_type": "stream",
          "text": [
            "Collecting numpy==1.14.2\n",
            "\u001b[?25l  Downloading https://files.pythonhosted.org/packages/6e/dc/92c0f670e7b986829fc92c4c0208edb9d72908149da38ecda50d816ea057/numpy-1.14.2-cp36-cp36m-manylinux1_x86_64.whl (12.2MB)\n",
            "\u001b[K     |████████████████████████████████| 12.2MB 9.8MB/s \n",
            "\u001b[31mERROR: xarray 0.15.1 has requirement numpy>=1.15, but you'll have numpy 1.14.2 which is incompatible.\u001b[0m\n",
            "\u001b[31mERROR: umap-learn 0.4.6 has requirement numpy>=1.17, but you'll have numpy 1.14.2 which is incompatible.\u001b[0m\n",
            "\u001b[31mERROR: tifffile 2020.9.3 has requirement numpy>=1.15.1, but you'll have numpy 1.14.2 which is incompatible.\u001b[0m\n",
            "\u001b[31mERROR: tensorflow 2.3.0 has requirement numpy<1.19.0,>=1.16.0, but you'll have numpy 1.14.2 which is incompatible.\u001b[0m\n",
            "\u001b[31mERROR: spacy 2.2.4 has requirement numpy>=1.15.0, but you'll have numpy 1.14.2 which is incompatible.\u001b[0m\n",
            "\u001b[31mERROR: seaborn 0.11.0 has requirement numpy>=1.15, but you'll have numpy 1.14.2 which is incompatible.\u001b[0m\n",
            "\u001b[31mERROR: plotnine 0.6.0 has requirement numpy>=1.16.0, but you'll have numpy 1.14.2 which is incompatible.\u001b[0m\n",
            "\u001b[31mERROR: pandas 1.1.2 has requirement numpy>=1.15.4, but you'll have numpy 1.14.2 which is incompatible.\u001b[0m\n",
            "\u001b[31mERROR: numba 0.48.0 has requirement numpy>=1.15, but you'll have numpy 1.14.2 which is incompatible.\u001b[0m\n",
            "\u001b[31mERROR: imgaug 0.2.9 has requirement numpy>=1.15.0, but you'll have numpy 1.14.2 which is incompatible.\u001b[0m\n",
            "\u001b[31mERROR: fbprophet 0.7.1 has requirement numpy>=1.15.4, but you'll have numpy 1.14.2 which is incompatible.\u001b[0m\n",
            "\u001b[31mERROR: fastai 1.0.61 has requirement numpy>=1.15, but you'll have numpy 1.14.2 which is incompatible.\u001b[0m\n",
            "\u001b[31mERROR: datascience 0.10.6 has requirement folium==0.2.1, but you'll have folium 0.8.3 which is incompatible.\u001b[0m\n",
            "\u001b[31mERROR: cvxpy 1.0.31 has requirement numpy>=1.15, but you'll have numpy 1.14.2 which is incompatible.\u001b[0m\n",
            "\u001b[31mERROR: blis 0.4.1 has requirement numpy>=1.15.0, but you'll have numpy 1.14.2 which is incompatible.\u001b[0m\n",
            "\u001b[31mERROR: astropy 4.0.1.post1 has requirement numpy>=1.16, but you'll have numpy 1.14.2 which is incompatible.\u001b[0m\n",
            "\u001b[31mERROR: albumentations 0.1.12 has requirement imgaug<0.2.7,>=0.2.5, but you'll have imgaug 0.2.9 which is incompatible.\u001b[0m\n",
            "\u001b[?25hInstalling collected packages: numpy\n",
            "  Found existing installation: numpy 1.18.5\n",
            "    Uninstalling numpy-1.18.5:\n",
            "      Successfully uninstalled numpy-1.18.5\n",
            "Successfully installed numpy-1.14.2\n"
          ],
          "name": "stdout"
        },
        {
          "output_type": "display_data",
          "data": {
            "application/vnd.colab-display-data+json": {
              "pip_warning": {
                "packages": [
                  "numpy"
                ]
              }
            }
          },
          "metadata": {
            "tags": []
          }
        }
      ]
    },
    {
      "cell_type": "code",
      "metadata": {
        "id": "n6CY0mZqM-wN",
        "colab": {
          "base_uri": "https://localhost:8080/",
          "height": 102
        },
        "outputId": "7163ae0c-d432-4554-97f1-9552039e1bbc"
      },
      "source": [
        "from tensorflow.keras.datasets import imdb\n",
        "max_features = 10000\n",
        "print('Loading data...')\n",
        "(input_train, y_train), (input_test, y_test) = imdb.load_data(num_words=max_features)\n",
        "print(len(input_train), 'train sequences')\n",
        "print(len(input_test), 'test sequences')"
      ],
      "execution_count": null,
      "outputs": [
        {
          "output_type": "stream",
          "text": [
            "Loading data...\n",
            "Downloading data from https://storage.googleapis.com/tensorflow/tf-keras-datasets/imdb.npz\n",
            "17465344/17464789 [==============================] - 0s 0us/step\n",
            "25000 train sequences\n",
            "25000 test sequences\n"
          ],
          "name": "stdout"
        }
      ]
    },
    {
      "cell_type": "markdown",
      "metadata": {
        "id": "GznezNI7SaKs"
      },
      "source": [
        " - The argument **num_words=10000** means we’ll only keep the top **10,000 most frequently**\n",
        "**occurring words in the training data**. Rare words will be discarded. This allows\n",
        "we to work with vector data of manageable size.\n",
        " - The variables **train_data** and **test_data** are **lists of reviews**; each review is a list of\n",
        "word indices (encoding a sequence of words). **train_labels** and **test_labels** are\n",
        "**lists of 0s and 1s, where 0 stands for negative and 1 stands for positive**."
      ]
    },
    {
      "cell_type": "markdown",
      "metadata": {
        "id": "uO0O1lqupz8J"
      },
      "source": [
        "<a id=section2></a>"
      ]
    },
    {
      "cell_type": "markdown",
      "metadata": {
        "id": "RT5kJQmCQnWS"
      },
      "source": [
        "### 2. Examining the Data"
      ]
    },
    {
      "cell_type": "code",
      "metadata": {
        "id": "av0mnyhMQfJ2",
        "colab": {
          "base_uri": "https://localhost:8080/",
          "height": 88
        },
        "outputId": "f0197637-312c-4a76-e3ed-af476a6a2bc9"
      },
      "source": [
        "print('1st review in training data:\\n')\n",
        "print(input_train[0])"
      ],
      "execution_count": null,
      "outputs": [
        {
          "output_type": "stream",
          "text": [
            "1st review in training data:\n",
            "\n",
            "[1, 14, 22, 16, 43, 530, 973, 1622, 1385, 65, 458, 4468, 66, 3941, 4, 173, 36, 256, 5, 25, 100, 43, 838, 112, 50, 670, 2, 9, 35, 480, 284, 5, 150, 4, 172, 112, 167, 2, 336, 385, 39, 4, 172, 4536, 1111, 17, 546, 38, 13, 447, 4, 192, 50, 16, 6, 147, 2025, 19, 14, 22, 4, 1920, 4613, 469, 4, 22, 71, 87, 12, 16, 43, 530, 38, 76, 15, 13, 1247, 4, 22, 17, 515, 17, 12, 16, 626, 18, 2, 5, 62, 386, 12, 8, 316, 8, 106, 5, 4, 2223, 5244, 16, 480, 66, 3785, 33, 4, 130, 12, 16, 38, 619, 5, 25, 124, 51, 36, 135, 48, 25, 1415, 33, 6, 22, 12, 215, 28, 77, 52, 5, 14, 407, 16, 82, 2, 8, 4, 107, 117, 5952, 15, 256, 4, 2, 7, 3766, 5, 723, 36, 71, 43, 530, 476, 26, 400, 317, 46, 7, 4, 2, 1029, 13, 104, 88, 4, 381, 15, 297, 98, 32, 2071, 56, 26, 141, 6, 194, 7486, 18, 4, 226, 22, 21, 134, 476, 26, 480, 5, 144, 30, 5535, 18, 51, 36, 28, 224, 92, 25, 104, 4, 226, 65, 16, 38, 1334, 88, 12, 16, 283, 5, 16, 4472, 113, 103, 32, 15, 16, 5345, 19, 178, 32]\n"
          ],
          "name": "stdout"
        }
      ]
    },
    {
      "cell_type": "code",
      "metadata": {
        "id": "RH-krZFqQkq4",
        "colab": {
          "base_uri": "https://localhost:8080/",
          "height": 68
        },
        "outputId": "e71179a0-5022-4470-99d5-3f944a92bc39"
      },
      "source": [
        "print('Sentiment of 1st review in training data:\\n')\n",
        "print(y_train[0])"
      ],
      "execution_count": null,
      "outputs": [
        {
          "output_type": "stream",
          "text": [
            "Sentiment of 1st review in training data:\n",
            "\n",
            "1\n"
          ],
          "name": "stdout"
        }
      ]
    },
    {
      "cell_type": "markdown",
      "metadata": {
        "id": "4Dj84zMCSlen"
      },
      "source": [
        " - For kicks, here’s how we can quickly decode one of these reviews back to English\n",
        "words:"
      ]
    },
    {
      "cell_type": "code",
      "metadata": {
        "id": "jO5ni0CDSkGp",
        "colab": {
          "base_uri": "https://localhost:8080/",
          "height": 122
        },
        "outputId": "98c03764-e89a-42de-c1df-bbfe30227331"
      },
      "source": [
        "word_index = imdb.get_word_index()\n",
        "reverse_word_index = dict(\n",
        "[(value, key) for (key, value) in word_index.items()])\n",
        "decoded_review = ' '.join(\n",
        "[reverse_word_index.get(i - 3, '?') for i in input_train[0]])\n",
        "print('1st review in training data actually looks like:\\n')\n",
        "print(decoded_review)"
      ],
      "execution_count": null,
      "outputs": [
        {
          "output_type": "stream",
          "text": [
            "Downloading data from https://storage.googleapis.com/tensorflow/tf-keras-datasets/imdb_word_index.json\n",
            "1646592/1641221 [==============================] - 0s 0us/step\n",
            "1st review in training data actually looks like:\n",
            "\n",
            "? this film was just brilliant casting location scenery story direction everyone's really suited the part they played and you could just imagine being there robert ? is an amazing actor and now the same being director ? father came from the same scottish island as myself so i loved the fact there was a real connection with this film the witty remarks throughout the film were great it was just brilliant so much that i bought the film as soon as it was released for ? and would recommend it to everyone to watch and the fly fishing was amazing really cried at the end it was so sad and you know what they say if you cry at a film it must have been good and this definitely was also ? to the two little boy's that played the ? of norman and paul they were just brilliant children are often left out of the ? list i think because the stars that play them all grown up are such a big profile for the whole film but these children are amazing and should be praised for what they have done don't you think the whole story was so lovely because it was true and was someone's life after all that was shared with us all\n"
          ],
          "name": "stdout"
        }
      ]
    },
    {
      "cell_type": "markdown",
      "metadata": {
        "id": "BNwKuR2oMlER"
      },
      "source": [
        " - Let’s build a **SimpleRNN** model on the **IMDB movie-review-classification problem**. \n",
        " - First, **preprocess the data.**"
      ]
    },
    {
      "cell_type": "markdown",
      "metadata": {
        "id": "OsR81xoVp21X"
      },
      "source": [
        "<a id=section3></a>"
      ]
    },
    {
      "cell_type": "markdown",
      "metadata": {
        "id": "04ORfh0dojA0"
      },
      "source": [
        "### 3. Preprocessing"
      ]
    },
    {
      "cell_type": "markdown",
      "metadata": {
        "id": "S__ddPIIVr3C"
      },
      "source": [
        " -  We will **truncate** the **each review** to a length of **500 words**.\n",
        " - **Reviews less than 500 words will be padded with zeros** upto a total review length of 500 words."
      ]
    },
    {
      "cell_type": "code",
      "metadata": {
        "id": "RT6SkviaNCVd",
        "colab": {
          "base_uri": "https://localhost:8080/",
          "height": 68
        },
        "outputId": "ec98a50c-5c8c-4a58-b0c5-2056b267708b"
      },
      "source": [
        "from tensorflow.keras.preprocessing import sequence\n",
        "maxlen = 500\n",
        "print('Pad sequences (samples x time)')\n",
        "input_train = sequence.pad_sequences(input_train, maxlen=maxlen)\n",
        "input_test = sequence.pad_sequences(input_test, maxlen=maxlen)\n",
        "print('input_train shape:', input_train.shape)\n",
        "print('input_test shape:', input_test.shape)"
      ],
      "execution_count": null,
      "outputs": [
        {
          "output_type": "stream",
          "text": [
            "Pad sequences (samples x time)\n",
            "input_train shape: (25000, 500)\n",
            "input_test shape: (25000, 500)\n"
          ],
          "name": "stdout"
        }
      ]
    },
    {
      "cell_type": "markdown",
      "metadata": {
        "id": "DtW93PNQp63O"
      },
      "source": [
        "<a id=section4></a>"
      ]
    },
    {
      "cell_type": "markdown",
      "metadata": {
        "id": "9s7DRq2Aop0b"
      },
      "source": [
        "### 4. SimpleRNN Model"
      ]
    },
    {
      "cell_type": "markdown",
      "metadata": {
        "id": "TVNY8-KHNbHq"
      },
      "source": [
        " - Let’s train a simple recurrent network using an **Embedding layer** and a **SimpleRNN**\n",
        "**layer**."
      ]
    },
    {
      "cell_type": "code",
      "metadata": {
        "id": "5sRZv_QoNg3W"
      },
      "source": [
        "from tensorflow.keras.models import Sequential\n",
        "from tensorflow.keras.layers import Dense, Embedding, Dense, SimpleRNN\n",
        "model = Sequential()\n",
        "model.add(Embedding(max_features, 32))\n",
        "model.add(SimpleRNN(32))\n",
        "model.add(Dense(1, activation='sigmoid'))\n",
        "model.compile(optimizer='rmsprop', loss='binary_crossentropy', metrics=['acc'])\n"
      ],
      "execution_count": null,
      "outputs": []
    },
    {
      "cell_type": "code",
      "metadata": {
        "id": "Pc3KPoUMZhMT",
        "colab": {
          "base_uri": "https://localhost:8080/",
          "height": 391
        },
        "outputId": "376a6cec-a785-4d3d-c5a0-c080b94ca4f2"
      },
      "source": [
        "%%time\n",
        "history = model.fit(input_train, y_train,\n",
        "epochs=10,\n",
        "batch_size=128,\n",
        "validation_split=0.2)"
      ],
      "execution_count": null,
      "outputs": [
        {
          "output_type": "stream",
          "text": [
            "Epoch 1/10\n",
            "157/157 [==============================] - 52s 328ms/step - loss: 0.5527 - acc: 0.7110 - val_loss: 0.3865 - val_acc: 0.8346\n",
            "Epoch 2/10\n",
            "157/157 [==============================] - 51s 326ms/step - loss: 0.3582 - acc: 0.8548 - val_loss: 0.3941 - val_acc: 0.8334\n",
            "Epoch 3/10\n",
            "157/157 [==============================] - 53s 335ms/step - loss: 0.2685 - acc: 0.8951 - val_loss: 0.4096 - val_acc: 0.8198\n",
            "Epoch 4/10\n",
            "157/157 [==============================] - 52s 330ms/step - loss: 0.2317 - acc: 0.9119 - val_loss: 0.4339 - val_acc: 0.8078\n",
            "Epoch 5/10\n",
            "157/157 [==============================] - 51s 324ms/step - loss: 0.1976 - acc: 0.9255 - val_loss: 0.4061 - val_acc: 0.8254\n",
            "Epoch 6/10\n",
            "157/157 [==============================] - 52s 331ms/step - loss: 0.1651 - acc: 0.9391 - val_loss: 0.3842 - val_acc: 0.8476\n",
            "Epoch 7/10\n",
            "157/157 [==============================] - 52s 332ms/step - loss: 0.1304 - acc: 0.9524 - val_loss: 0.4286 - val_acc: 0.8610\n",
            "Epoch 8/10\n",
            "157/157 [==============================] - 53s 340ms/step - loss: 0.0957 - acc: 0.9661 - val_loss: 0.4621 - val_acc: 0.8454\n",
            "Epoch 9/10\n",
            "157/157 [==============================] - 52s 333ms/step - loss: 0.0757 - acc: 0.9747 - val_loss: 0.4811 - val_acc: 0.8630\n",
            "Epoch 10/10\n",
            "157/157 [==============================] - 51s 328ms/step - loss: 0.0612 - acc: 0.9799 - val_loss: 0.5158 - val_acc: 0.8462\n",
            "CPU times: user 12min 31s, sys: 1min 19s, total: 13min 51s\n",
            "Wall time: 8min 44s\n"
          ],
          "name": "stdout"
        }
      ]
    },
    {
      "cell_type": "markdown",
      "metadata": {
        "id": "Jxeay9qNNkGF"
      },
      "source": [
        " - Now, let’s display the training and validation loss and accuracy"
      ]
    },
    {
      "cell_type": "markdown",
      "metadata": {
        "id": "e2u3wvLdp99I"
      },
      "source": [
        "<a id=section5></a>"
      ]
    },
    {
      "cell_type": "markdown",
      "metadata": {
        "id": "9gdJ-PEuo5mq"
      },
      "source": [
        "### 5.\tSimpleRNN Model Evaluation"
      ]
    },
    {
      "cell_type": "code",
      "metadata": {
        "id": "WL2jo7QENm3r",
        "colab": {
          "base_uri": "https://localhost:8080/"
        },
        "outputId": "9c5606b9-81be-44f0-e479-cde986450ead"
      },
      "source": [
        "import matplotlib.pyplot as plt\n",
        "acc = history.history['acc']\n",
        "val_acc = history.history['val_acc']\n",
        "loss = history.history['loss']\n",
        "val_loss = history.history['val_loss']\n",
        "epochs = range(1, len(acc) + 1)\n",
        "plt.plot(epochs, acc, 'bo', label='Training acc')\n",
        "plt.plot(epochs, val_acc, 'b', label='Validation acc')\n",
        "plt.title('Training and validation accuracy')\n",
        "plt.legend()\n",
        "plt.figure()\n",
        "plt.plot(epochs, loss, 'bo', label='Training loss')\n",
        "plt.plot(epochs, val_loss, 'b', label='Validation loss')\n",
        "plt.title('Training and validation loss')\n",
        "plt.legend()\n",
        "plt.show()"
      ],
      "execution_count": null,
      "outputs": [
        {
          "output_type": "display_data",
          "data": {
            "image/png": "[encoded data removed]",
            "text/plain": [
              "<Figure size 432x288 with 1 Axes>"
            ]
          },
          "metadata": {
            "tags": [],
            "needs_background": "light"
          }
        },
        {
          "output_type": "display_data",
          "data": {
            "image/png": "[encoded data removed]",
            "text/plain": [
              "<Figure size 432x288 with 1 Axes>"
            ]
          },
          "metadata": {
            "tags": [],
            "needs_background": "light"
          }
        }
      ]
    },
    {
      "cell_type": "markdown",
      "metadata": {
        "id": "WmIAHaxRQ1Oc"
      },
      "source": [
        "### - The highest accuracy on validation dataset is 85%"
      ]
    },
    {
      "cell_type": "markdown",
      "metadata": {
        "id": "SEx5gZpWqCex"
      },
      "source": [
        "<a id=section6></a>"
      ]
    },
    {
      "cell_type": "markdown",
      "metadata": {
        "id": "dkiFyNPzo-7B"
      },
      "source": [
        "### 6. LSTM Model"
      ]
    },
    {
      "cell_type": "markdown",
      "metadata": {
        "id": "Tkg7vMm_Q8zh"
      },
      "source": [
        "### Let's see how LSTM performs."
      ]
    },
    {
      "cell_type": "code",
      "metadata": {
        "id": "VMpDc1WNOTWh"
      },
      "source": [
        "from tensorflow.keras.layers import LSTM\n",
        "model = Sequential()\n",
        "model.add(Embedding(max_features, 32))\n",
        "model.add(LSTM(32))\n",
        "model.add(Dense(1, activation='sigmoid'))\n",
        "model.compile(optimizer='rmsprop',\n",
        "loss='binary_crossentropy',\n",
        "metrics=['acc'])"
      ],
      "execution_count": null,
      "outputs": []
    },
    {
      "cell_type": "code",
      "metadata": {
        "id": "5E1Z6Nn1ALLc",
        "colab": {
          "base_uri": "https://localhost:8080/",
          "height": 391
        },
        "outputId": "afeeef5a-ebf5-4761-dda6-e94798d2f756"
      },
      "source": [
        "%%time\n",
        "history = model.fit(input_train, y_train,\n",
        "epochs=10,\n",
        "batch_size=128,\n",
        "validation_split=0.2)"
      ],
      "execution_count": null,
      "outputs": [
        {
          "output_type": "stream",
          "text": [
            "Epoch 1/10\n",
            "157/157 [==============================] - 5s 29ms/step - loss: 0.5485 - acc: 0.7401 - val_loss: 0.4186 - val_acc: 0.8170\n",
            "Epoch 2/10\n",
            "157/157 [==============================] - 4s 28ms/step - loss: 0.3051 - acc: 0.8787 - val_loss: 0.2817 - val_acc: 0.8888\n",
            "Epoch 3/10\n",
            "157/157 [==============================] - 4s 27ms/step - loss: 0.2379 - acc: 0.9082 - val_loss: 0.2760 - val_acc: 0.8946\n",
            "Epoch 4/10\n",
            "157/157 [==============================] - 4s 28ms/step - loss: 0.2036 - acc: 0.9230 - val_loss: 0.3472 - val_acc: 0.8842\n",
            "Epoch 5/10\n",
            "157/157 [==============================] - 4s 28ms/step - loss: 0.1750 - acc: 0.9361 - val_loss: 0.2854 - val_acc: 0.8886\n",
            "Epoch 6/10\n",
            "157/157 [==============================] - 4s 26ms/step - loss: 0.1592 - acc: 0.9433 - val_loss: 0.5458 - val_acc: 0.8492\n",
            "Epoch 7/10\n",
            "157/157 [==============================] - 4s 26ms/step - loss: 0.1450 - acc: 0.9485 - val_loss: 0.4141 - val_acc: 0.8684\n",
            "Epoch 8/10\n",
            "157/157 [==============================] - 4s 26ms/step - loss: 0.1303 - acc: 0.9553 - val_loss: 0.3187 - val_acc: 0.8696\n",
            "Epoch 9/10\n",
            "157/157 [==============================] - 4s 27ms/step - loss: 0.1217 - acc: 0.9599 - val_loss: 0.3667 - val_acc: 0.8562\n",
            "Epoch 10/10\n",
            "157/157 [==============================] - 4s 26ms/step - loss: 0.1115 - acc: 0.9604 - val_loss: 0.4327 - val_acc: 0.8502\n",
            "CPU times: user 47.4 s, sys: 2.72 s, total: 50.2 s\n",
            "Wall time: 49 s\n"
          ],
          "name": "stdout"
        }
      ]
    },
    {
      "cell_type": "markdown",
      "metadata": {
        "id": "8cKoTk3Dq0hC"
      },
      "source": [
        "<a id=section7></a>"
      ]
    },
    {
      "cell_type": "markdown",
      "metadata": {
        "id": "RlPYMxYipHpO"
      },
      "source": [
        "### 7.\tLSTM Model Evaluaton"
      ]
    },
    {
      "cell_type": "code",
      "metadata": {
        "id": "P1mFSfbWPbwd",
        "colab": {
          "base_uri": "https://localhost:8080/",
          "height": 545
        },
        "outputId": "c7bc3478-50f0-4b90-b849-ba68e26b752d"
      },
      "source": [
        "import matplotlib.pyplot as plt\n",
        "acc = history.history['acc']\n",
        "val_acc = history.history['val_acc']\n",
        "loss = history.history['loss']\n",
        "val_loss = history.history['val_loss']\n",
        "epochs = range(1, len(acc) + 1)\n",
        "plt.plot(epochs, acc, 'bo', label='Training acc')\n",
        "plt.plot(epochs, val_acc, 'b', label='Validation acc')\n",
        "plt.title('Training and validation accuracy')\n",
        "plt.legend()\n",
        "plt.figure()\n",
        "plt.plot(epochs, loss, 'bo', label='Training loss')\n",
        "plt.plot(epochs, val_loss, 'b', label='Validation loss')\n",
        "plt.title('Training and validation loss')\n",
        "plt.legend()\n",
        "plt.show()"
      ],
      "execution_count": null,
      "outputs": [
        {
          "output_type": "display_data",
          "data": {
            "image/png": "[encoded data removed]",
            "text/plain": [
              "<Figure size 432x288 with 1 Axes>"
            ]
          },
          "metadata": {
            "tags": [],
            "needs_background": "light"
          }
        },
        {
          "output_type": "display_data",
          "data": {
            "image/png": "[encoded data removed]",
            "text/plain": [
              "<Figure size 432x288 with 1 Axes>"
            ]
          },
          "metadata": {
            "tags": [],
            "needs_background": "light"
          }
        }
      ]
    },
    {
      "cell_type": "markdown",
      "metadata": {
        "id": "RzVInSRmRFVO"
      },
      "source": [
        "### - The highest accuracy on validation dataset is 89%"
      ]
    },
    {
      "cell_type": "markdown",
      "metadata": {
        "id": "3Sf7MCxZRLdA"
      },
      "source": [
        " - We can clearly see **LSTM out performs SimpleRNN**."
      ]
    },
    {
      "cell_type": "markdown",
      "metadata": {
        "id": "LNw6oEmVZMj0"
      },
      "source": [
        "### 8. GRU Model"
      ]
    },
    {
      "cell_type": "markdown",
      "metadata": {
        "id": "7Na1zMYwZVb5"
      },
      "source": [
        "### Let's see how GRU performs."
      ]
    },
    {
      "cell_type": "code",
      "metadata": {
        "id": "T7xfD8OlyOL1"
      },
      "source": [
        "from tensorflow.keras.layers import GRU\n",
        "model = Sequential()\n",
        "model.add(Embedding(max_features, 32))\n",
        "model.add(GRU(32))\n",
        "model.add(Dense(1, activation='sigmoid'))\n",
        "model.compile(optimizer='rmsprop',\n",
        "loss='binary_crossentropy',\n",
        "metrics=['acc'])"
      ],
      "execution_count": null,
      "outputs": []
    },
    {
      "cell_type": "code",
      "metadata": {
        "id": "w4Eza-BpAQNA",
        "colab": {
          "base_uri": "https://localhost:8080/",
          "height": 391
        },
        "outputId": "dbe5e559-3c33-4b94-a0ee-a860e80dc30e"
      },
      "source": [
        "%%time\n",
        "history = model.fit(input_train, y_train,\n",
        "epochs=10,\n",
        "batch_size=128,\n",
        "validation_split=0.2)"
      ],
      "execution_count": null,
      "outputs": [
        {
          "output_type": "stream",
          "text": [
            "Epoch 1/10\n",
            "157/157 [==============================] - 5s 29ms/step - loss: 0.5258 - acc: 0.7312 - val_loss: 0.4317 - val_acc: 0.8002\n",
            "Epoch 2/10\n",
            "157/157 [==============================] - 4s 27ms/step - loss: 0.3274 - acc: 0.8700 - val_loss: 0.3220 - val_acc: 0.8688\n",
            "Epoch 3/10\n",
            "157/157 [==============================] - 4s 28ms/step - loss: 0.2515 - acc: 0.9026 - val_loss: 0.3667 - val_acc: 0.8620\n",
            "Epoch 4/10\n",
            "157/157 [==============================] - 4s 27ms/step - loss: 0.2225 - acc: 0.9164 - val_loss: 0.3300 - val_acc: 0.8692\n",
            "Epoch 5/10\n",
            "157/157 [==============================] - 4s 26ms/step - loss: 0.1958 - acc: 0.9253 - val_loss: 0.3116 - val_acc: 0.8812\n",
            "Epoch 6/10\n",
            "157/157 [==============================] - 4s 26ms/step - loss: 0.1770 - acc: 0.9351 - val_loss: 0.8979 - val_acc: 0.7540\n",
            "Epoch 7/10\n",
            "157/157 [==============================] - 4s 26ms/step - loss: 0.1626 - acc: 0.9419 - val_loss: 0.4023 - val_acc: 0.8388\n",
            "Epoch 8/10\n",
            "157/157 [==============================] - 4s 27ms/step - loss: 0.1483 - acc: 0.9479 - val_loss: 0.5538 - val_acc: 0.7914\n",
            "Epoch 9/10\n",
            "157/157 [==============================] - 4s 27ms/step - loss: 0.1353 - acc: 0.9521 - val_loss: 0.3930 - val_acc: 0.8378\n",
            "Epoch 10/10\n",
            "157/157 [==============================] - 4s 26ms/step - loss: 0.1298 - acc: 0.9549 - val_loss: 0.4064 - val_acc: 0.8644\n",
            "CPU times: user 45.6 s, sys: 2.25 s, total: 47.9 s\n",
            "Wall time: 44.2 s\n"
          ],
          "name": "stdout"
        }
      ]
    },
    {
      "cell_type": "markdown",
      "metadata": {
        "id": "UYVONmxGa1OE"
      },
      "source": [
        "<a id=section9></a>"
      ]
    },
    {
      "cell_type": "markdown",
      "metadata": {
        "id": "EVuLjrIaaPjH"
      },
      "source": [
        "### 9. GRU Model Evaluaton"
      ]
    },
    {
      "cell_type": "code",
      "metadata": {
        "id": "AzyTmORRyS1a",
        "scrolled": false,
        "colab": {
          "base_uri": "https://localhost:8080/"
        },
        "outputId": "1dd200b4-f632-4a7d-9502-9bfbaf50e977"
      },
      "source": [
        "acc = history.history['acc']\n",
        "val_acc = history.history['val_acc']\n",
        "loss = history.history['loss']\n",
        "val_loss = history.history['val_loss']\n",
        "epochs = range(1, len(acc) + 1)\n",
        "plt.plot(epochs, acc, 'bo', label='Training acc')\n",
        "plt.plot(epochs, val_acc, 'b', label='Validation acc')\n",
        "plt.title('Training and validation accuracy')\n",
        "plt.legend()\n",
        "plt.figure()\n",
        "plt.plot(epochs, loss, 'bo', label='Training loss')\n",
        "plt.plot(epochs, val_loss, 'b', label='Validation loss')\n",
        "plt.title('Training and validation loss')\n",
        "plt.legend()\n",
        "plt.show()"
      ],
      "execution_count": null,
      "outputs": [
        {
          "output_type": "display_data",
          "data": {
            "image/png": "[encoded data removed]",
            "text/plain": [
              "<Figure size 432x288 with 1 Axes>"
            ]
          },
          "metadata": {
            "tags": [],
            "needs_background": "light"
          }
        },
        {
          "output_type": "display_data",
          "data": {
            "image/png": "[encoded data removed]",
            "text/plain": [
              "<Figure size 432x288 with 1 Axes>"
            ]
          },
          "metadata": {
            "tags": [],
            "needs_background": "light"
          }
        }
      ]
    },
    {
      "cell_type": "markdown",
      "metadata": {
        "id": "_ZjSSW4tZuRE"
      },
      "source": [
        " - #### The highest accuracy on validation dataset is 88%\n",
        " - #### There seems to be slight improvement in execution time"
      ]
    },
    {
      "cell_type": "markdown",
      "metadata": {
        "id": "hVdK2zfXe9DT"
      },
      "source": [
        "#### <center>The Values for Loss and Accuracy on Training and Validation Data for highest Accuracy on Validation Data</center>"
      ]
    },
    {
      "cell_type": "markdown",
      "metadata": {
        "id": "3Q54pOgke9DU"
      },
      "source": [
        "| Model | CPU Time for 10 Epochs(Google Colab) | Loss on Training Data | Loss on Validation Data | Accuracy on Training Data | Accuracy on Validation Data | \n",
        "| --- | --- | --- | --- | --- | --- |\n",
        "| SimpleRNN Model | 6 Minutes | 0.2971 | 0.3501 | 0.8814 | 0.8610 |\n",
        "| LSTM Model | 23 Minutes | 0.1928 | 0.3066 | 0.9279 | 0.8940 |\n",
        "| GRU Model | 18 Minues | 0.1640 | 0.3279 | 0.9410 | 0.8796 |"
      ]
    }
  ]
}